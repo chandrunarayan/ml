{
 "cells": [
  {
   "cell_type": "markdown",
   "id": "2d4de361-769f-48a7-82fa-e78e8aa66d2e",
   "metadata": {},
   "source": [
    "# Welcome to Jupyter Notebook with Java!!"
   ]
  },
  {
   "cell_type": "markdown",
   "id": "3e07b672-86eb-474a-9fbb-66529b3b4ab5",
   "metadata": {},
   "source": [
    "### Some useful references\n",
    "* [Github IJava](https://github.com/SpencerPark/IJava)\n",
    "* [IJava Features](https://github.com/SpencerPark/IJava#features)"
   ]
  },
  {
   "cell_type": "code",
   "execution_count": 20,
   "id": "07f68a1a-4cf7-4ed9-8009-f6b9f90ca4aa",
   "metadata": {
    "tags": []
   },
   "outputs": [],
   "source": [
    "double a = Math.random();\n",
    "double b = Math.PI/4;\n",
    "double c = Math.sin(b)*20;\n",
    "String s = \"my string\";\n",
    "int iA = 5;\n",
    "int iB = iA%2"
   ]
  },
  {
   "cell_type": "code",
   "execution_count": 21,
   "id": "7636686e-586e-4c98-b724-cf7c84b6ab42",
   "metadata": {
    "tags": []
   },
   "outputs": [
    {
     "name": "stdout",
     "output_type": "stream",
     "text": [
      "a: 0.291287\n",
      "b: 0.785398\n",
      "c: 14.142136\n",
      "s: my string\n",
      "iA: 5443\n",
      "iB: 4\n"
     ]
    },
    {
     "data": {
      "text/plain": [
       "java.io.PrintStream@542ee172"
      ]
     },
     "execution_count": 21,
     "metadata": {},
     "output_type": "execute_result"
    }
   ],
   "source": [
    "double a = Math.random();\n",
    "double b = Math.PI/4;\n",
    "String s = \"my string\";\n",
    "int iA = 5443;\n",
    "int iB = iA%7;\n",
    "System.out.printf(\"a: %f\\n\", a);\n",
    "System.out.printf(\"b: %f\\n\", b);\n",
    "System.out.printf(\"c: %f\\n\", c);\n",
    "System.out.printf(\"s: %s\\n\", s);\n",
    "System.out.printf(\"iA: %d\\n\", iA);\n",
    "System.out.printf(\"iB: %d\\n\", iB);"
   ]
  },
  {
   "cell_type": "code",
   "execution_count": null,
   "id": "01d16c27-9ecc-4f13-bac8-877091e46a47",
   "metadata": {},
   "outputs": [],
   "source": []
  },
  {
   "cell_type": "code",
   "execution_count": null,
   "id": "961d6307-a3f9-418f-9445-37cdb976cc24",
   "metadata": {},
   "outputs": [],
   "source": []
  }
 ],
 "metadata": {
  "kernelspec": {
   "display_name": "Java",
   "language": "java",
   "name": "java"
  },
  "language_info": {
   "codemirror_mode": "java",
   "file_extension": ".jshell",
   "mimetype": "text/x-java-source",
   "name": "Java",
   "pygments_lexer": "java",
   "version": "11.0.18+10-post-Debian-1deb11u1"
  }
 },
 "nbformat": 4,
 "nbformat_minor": 5
}
